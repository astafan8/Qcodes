{
 "cells": [
  {
   "cell_type": "markdown",
   "id": "plain-primary",
   "metadata": {},
   "source": [
    "# Qcodes example with DelegateInstrument driver\n",
    "\n",
    "This notebooks explains how to use the `DelegateInstrument` driver.\n",
    "\n",
    "## About\n",
    "The goal of the `DelegateInstrument` driver is to make it easier to combine different parameters together into a new \"virtual\" instrument. Each parameter on a `DelegateInstrument` can point to one or more parameters on other instruments in the station.\n",
    "\n",
    "## Usage\n",
    "The way it's used is mainly by specifying an entry in the station YAML. For instance, let's say you want to use a magnetic field coil. The driver has a method set_field(value, block), that by default is set to block=True, which means the field is ramped in a way that blocks further execution until the desired value is reached. However, let's say you are creating a measurement in which you want the parameter to be set, and while the value is ramping, you want to measure other parameters. This can be done by using `DelegateInstrument` and specifying a custom `setter` for the parameter that gets and sets the magnetic field.\n",
    "\n",
    "By default, each parameter is represented by a `DelegateParameter`. The `DelegateInstrument` also supports passing multiple source parameters to a given parameter. In order to do this, simply specify multiple parameters in the dictionary values  under the `parameters` key.\n",
    "\n",
    "It can also add instrument channels, specified under a separate key `channels`, shown in the second half of the notebook."
   ]
  },
  {
   "cell_type": "code",
   "execution_count": 1,
   "id": "sapphire-quebec",
   "metadata": {
    "execution": {
     "iopub.execute_input": "2023-01-04T15:38:21.272697Z",
     "iopub.status.busy": "2023-01-04T15:38:21.272305Z",
     "iopub.status.idle": "2023-01-04T15:38:21.281374Z",
     "shell.execute_reply": "2023-01-04T15:38:21.280720Z"
    }
   },
   "outputs": [
    {
     "name": "stdout",
     "output_type": "stream",
     "text": [
      "Writing example.yaml\n"
     ]
    }
   ],
   "source": [
    "%%writefile example.yaml\n",
    "\n",
    "instruments:\n",
    "  field_X:\n",
    "    type: qcodes.tests.instrument_mocks.MockField\n",
    "\n",
    "  field:\n",
    "    type: qcodes.instrument.delegate.DelegateInstrument\n",
    "    init:\n",
    "      parameters:\n",
    "        X:\n",
    "          - field_X.field\n",
    "        ramp_rate:\n",
    "          - field_X.ramp_rate\n",
    "        combined:\n",
    "          - field_X.field\n",
    "          - field_X.ramp_rate\n",
    "      set_initial_values_on_load: true\n",
    "      initial_values:\n",
    "        ramp_rate: 1.0\n",
    "      setters:\n",
    "        X:\n",
    "          method: field_X.set_field\n",
    "          block: false"
   ]
  },
  {
   "cell_type": "code",
   "execution_count": 2,
   "id": "younger-newspaper",
   "metadata": {
    "execution": {
     "iopub.execute_input": "2023-01-04T15:38:21.283974Z",
     "iopub.status.busy": "2023-01-04T15:38:21.283762Z",
     "iopub.status.idle": "2023-01-04T15:38:21.558967Z",
     "shell.execute_reply": "2023-01-04T15:38:21.558322Z"
    }
   },
   "outputs": [],
   "source": [
    "import qcodes as qc"
   ]
  },
  {
   "cell_type": "code",
   "execution_count": 3,
   "id": "muslim-briefs",
   "metadata": {
    "execution": {
     "iopub.execute_input": "2023-01-04T15:38:21.562775Z",
     "iopub.status.busy": "2023-01-04T15:38:21.562135Z",
     "iopub.status.idle": "2023-01-04T15:38:21.587500Z",
     "shell.execute_reply": "2023-01-04T15:38:21.586913Z"
    }
   },
   "outputs": [],
   "source": [
    "station = qc.Station(config_file=\"example.yaml\")"
   ]
  },
  {
   "cell_type": "code",
   "execution_count": 4,
   "id": "greatest-antenna",
   "metadata": {
    "execution": {
     "iopub.execute_input": "2023-01-04T15:38:21.590180Z",
     "iopub.status.busy": "2023-01-04T15:38:21.589964Z",
     "iopub.status.idle": "2023-01-04T15:38:21.618100Z",
     "shell.execute_reply": "2023-01-04T15:38:21.617545Z"
    }
   },
   "outputs": [],
   "source": [
    "field_X = station.load_field_X()\n",
    "field = station.load_field(station=station)"
   ]
  },
  {
   "cell_type": "code",
   "execution_count": 5,
   "id": "every-playing",
   "metadata": {
    "execution": {
     "iopub.execute_input": "2023-01-04T15:38:21.621748Z",
     "iopub.status.busy": "2023-01-04T15:38:21.621138Z",
     "iopub.status.idle": "2023-01-04T15:38:21.629839Z",
     "shell.execute_reply": "2023-01-04T15:38:21.629209Z"
    }
   },
   "outputs": [
    {
     "data": {
      "text/plain": [
       "0.0"
      ]
     },
     "execution_count": 5,
     "metadata": {},
     "output_type": "execute_result"
    }
   ],
   "source": [
    "field.X()"
   ]
  },
  {
   "cell_type": "code",
   "execution_count": 6,
   "id": "undefined-worst",
   "metadata": {
    "execution": {
     "iopub.execute_input": "2023-01-04T15:38:21.632352Z",
     "iopub.status.busy": "2023-01-04T15:38:21.632146Z",
     "iopub.status.idle": "2023-01-04T15:38:21.636182Z",
     "shell.execute_reply": "2023-01-04T15:38:21.635647Z"
    }
   },
   "outputs": [],
   "source": [
    "field.X(1.)"
   ]
  },
  {
   "cell_type": "code",
   "execution_count": 7,
   "id": "recreational-suggestion",
   "metadata": {
    "execution": {
     "iopub.execute_input": "2023-01-04T15:38:21.638642Z",
     "iopub.status.busy": "2023-01-04T15:38:21.638438Z",
     "iopub.status.idle": "2023-01-04T15:38:21.642147Z",
     "shell.execute_reply": "2023-01-04T15:38:21.641571Z"
    }
   },
   "outputs": [
    {
     "data": {
      "text/plain": [
       "0.00010273456573486328"
      ]
     },
     "execution_count": 7,
     "metadata": {},
     "output_type": "execute_result"
    }
   ],
   "source": [
    "field.X()"
   ]
  },
  {
   "cell_type": "code",
   "execution_count": 8,
   "id": "adopted-exchange",
   "metadata": {
    "execution": {
     "iopub.execute_input": "2023-01-04T15:38:21.645215Z",
     "iopub.status.busy": "2023-01-04T15:38:21.645003Z",
     "iopub.status.idle": "2023-01-04T15:38:21.648804Z",
     "shell.execute_reply": "2023-01-04T15:38:21.648195Z"
    }
   },
   "outputs": [
    {
     "data": {
      "text/plain": [
       "0.00021230777104695638"
      ]
     },
     "execution_count": 8,
     "metadata": {},
     "output_type": "execute_result"
    }
   ],
   "source": [
    "field.X()"
   ]
  },
  {
   "cell_type": "code",
   "execution_count": 9,
   "id": "bound-broadcasting",
   "metadata": {
    "execution": {
     "iopub.execute_input": "2023-01-04T15:38:21.651784Z",
     "iopub.status.busy": "2023-01-04T15:38:21.651584Z",
     "iopub.status.idle": "2023-01-04T15:38:21.655310Z",
     "shell.execute_reply": "2023-01-04T15:38:21.654728Z"
    }
   },
   "outputs": [
    {
     "data": {
      "text/plain": [
       "0.0003216703732808431"
      ]
     },
     "execution_count": 9,
     "metadata": {},
     "output_type": "execute_result"
    }
   ],
   "source": [
    "field.X()"
   ]
  },
  {
   "cell_type": "code",
   "execution_count": 10,
   "id": "casual-ghost",
   "metadata": {
    "execution": {
     "iopub.execute_input": "2023-01-04T15:38:21.658395Z",
     "iopub.status.busy": "2023-01-04T15:38:21.658183Z",
     "iopub.status.idle": "2023-01-04T15:38:21.661950Z",
     "shell.execute_reply": "2023-01-04T15:38:21.661349Z"
    }
   },
   "outputs": [
    {
     "data": {
      "text/plain": [
       "0.0004318435986836751"
      ]
     },
     "execution_count": 10,
     "metadata": {},
     "output_type": "execute_result"
    }
   ],
   "source": [
    "field.X()"
   ]
  },
  {
   "cell_type": "markdown",
   "id": "alike-process",
   "metadata": {},
   "source": [
    "As you can see, the field is now ramped in the background with the specified ramp rate. Now, let's try to create a measurement that uses this ability, and ramps the field in the background while measuring:"
   ]
  },
  {
   "cell_type": "code",
   "execution_count": 11,
   "id": "sustained-tiger",
   "metadata": {
    "execution": {
     "iopub.execute_input": "2023-01-04T15:38:21.665055Z",
     "iopub.status.busy": "2023-01-04T15:38:21.664841Z",
     "iopub.status.idle": "2023-01-04T15:38:21.670188Z",
     "shell.execute_reply": "2023-01-04T15:38:21.669661Z"
    }
   },
   "outputs": [],
   "source": [
    "field.ramp_rate(10.)\n",
    "field_X.field(0.0)"
   ]
  },
  {
   "cell_type": "code",
   "execution_count": 12,
   "id": "pharmaceutical-partition",
   "metadata": {
    "execution": {
     "iopub.execute_input": "2023-01-04T15:38:21.672722Z",
     "iopub.status.busy": "2023-01-04T15:38:21.672511Z",
     "iopub.status.idle": "2023-01-04T15:38:21.676211Z",
     "shell.execute_reply": "2023-01-04T15:38:21.675628Z"
    }
   },
   "outputs": [
    {
     "data": {
      "text/plain": [
       "0.0"
      ]
     },
     "execution_count": 12,
     "metadata": {},
     "output_type": "execute_result"
    }
   ],
   "source": [
    "field.X()"
   ]
  },
  {
   "cell_type": "code",
   "execution_count": 13,
   "id": "happy-ordinance",
   "metadata": {
    "execution": {
     "iopub.execute_input": "2023-01-04T15:38:21.679234Z",
     "iopub.status.busy": "2023-01-04T15:38:21.679032Z",
     "iopub.status.idle": "2023-01-04T15:38:22.904285Z",
     "shell.execute_reply": "2023-01-04T15:38:22.903666Z"
    }
   },
   "outputs": [
    {
     "name": "stdout",
     "output_type": "stream",
     "text": [
      "Starting experimental run with id: 60. \n"
     ]
    }
   ],
   "source": [
    "import time\n",
    "meas = qc.Measurement(station=station)\n",
    "meas.register_parameter(field.X)\n",
    "\n",
    "with meas.run() as datasaver:\n",
    "    for B in [0.1, 0.0]:\n",
    "        field.X(B)\n",
    "        while field.X() != B:\n",
    "            datasaver.add_result((field.X, field.X()))\n",
    "            time.sleep(0.01)\n",
    "    datasaver.flush_data_to_database()"
   ]
  },
  {
   "cell_type": "code",
   "execution_count": 14,
   "id": "short-medium",
   "metadata": {
    "execution": {
     "iopub.execute_input": "2023-01-04T15:38:22.907310Z",
     "iopub.status.busy": "2023-01-04T15:38:22.907074Z",
     "iopub.status.idle": "2023-01-04T15:38:23.564234Z",
     "shell.execute_reply": "2023-01-04T15:38:23.563673Z"
    }
   },
   "outputs": [
    {
     "data": {
      "text/plain": [
       "<AxesSubplot: >"
      ]
     },
     "execution_count": 14,
     "metadata": {},
     "output_type": "execute_result"
    },
    {
     "data": {
      "image/png": "[encoded data removed]",
      "text/plain": [
       "<Figure size 640x480 with 1 Axes>"
      ]
     },
     "metadata": {},
     "output_type": "display_data"
    }
   ],
   "source": [
    "datasaver.dataset.to_pandas_dataframe().plot()"
   ]
  },
  {
   "cell_type": "markdown",
   "id": "incomplete-vietnamese",
   "metadata": {},
   "source": [
    "When specifying multiple source parameters on a given parameter, the grouped parameter will automatically return a `namedtuple` that returns both values."
   ]
  },
  {
   "cell_type": "code",
   "execution_count": 15,
   "id": "dangerous-finder",
   "metadata": {
    "execution": {
     "iopub.execute_input": "2023-01-04T15:38:23.567121Z",
     "iopub.status.busy": "2023-01-04T15:38:23.566794Z",
     "iopub.status.idle": "2023-01-04T15:38:23.572171Z",
     "shell.execute_reply": "2023-01-04T15:38:23.571564Z"
    }
   },
   "outputs": [
    {
     "data": {
      "text/plain": [
       "combined(field=0.0, ramp_rate=10.0)"
      ]
     },
     "execution_count": 15,
     "metadata": {},
     "output_type": "execute_result"
    }
   ],
   "source": [
    "field.combined()"
   ]
  },
  {
   "cell_type": "markdown",
   "id": "consolidated-cooper",
   "metadata": {},
   "source": [
    "We can now also create a custom parameter that does a simple calculation based on the current parameters."
   ]
  },
  {
   "cell_type": "code",
   "execution_count": 16,
   "id": "designed-bloom",
   "metadata": {
    "execution": {
     "iopub.execute_input": "2023-01-04T15:38:23.574870Z",
     "iopub.status.busy": "2023-01-04T15:38:23.574656Z",
     "iopub.status.idle": "2023-01-04T15:38:23.578623Z",
     "shell.execute_reply": "2023-01-04T15:38:23.578006Z"
    }
   },
   "outputs": [],
   "source": [
    "import numpy as np\n",
    "\n",
    "def calculate_ramp_time(X, ramp_rate):\n",
    "    \"\"\"Calculate ramp time in seconds\"\"\"\n",
    "    dfield = np.abs(field.target_field - X)\n",
    "    return 60. * dfield/ramp_rate"
   ]
  },
  {
   "cell_type": "code",
   "execution_count": 17,
   "id": "disabled-logic",
   "metadata": {
    "execution": {
     "iopub.execute_input": "2023-01-04T15:38:23.581187Z",
     "iopub.status.busy": "2023-01-04T15:38:23.580970Z",
     "iopub.status.idle": "2023-01-04T15:38:23.584389Z",
     "shell.execute_reply": "2023-01-04T15:38:23.583789Z"
    },
    "scrolled": true
   },
   "outputs": [],
   "source": [
    "field._create_and_add_parameter(\n",
    "    group_name=\"ramp_time\",\n",
    "    station=station,\n",
    "    paths=[\"field_X.field\", \"field_X.ramp_rate\"],\n",
    "    formatter=calculate_ramp_time\n",
    ")"
   ]
  },
  {
   "cell_type": "code",
   "execution_count": 18,
   "id": "adverse-february",
   "metadata": {
    "execution": {
     "iopub.execute_input": "2023-01-04T15:38:23.586902Z",
     "iopub.status.busy": "2023-01-04T15:38:23.586695Z",
     "iopub.status.idle": "2023-01-04T15:38:23.591105Z",
     "shell.execute_reply": "2023-01-04T15:38:23.590513Z"
    }
   },
   "outputs": [
    {
     "data": {
      "text/plain": [
       "6.0"
      ]
     },
     "execution_count": 18,
     "metadata": {},
     "output_type": "execute_result"
    }
   ],
   "source": [
    "field.ramp_rate(1.0)\n",
    "field.target_field = 0.1\n",
    "field.ramp_time()"
   ]
  },
  {
   "cell_type": "code",
   "execution_count": 19,
   "id": "statutory-xerox",
   "metadata": {
    "execution": {
     "iopub.execute_input": "2023-01-04T15:38:23.594379Z",
     "iopub.status.busy": "2023-01-04T15:38:23.594168Z",
     "iopub.status.idle": "2023-01-04T15:38:23.597166Z",
     "shell.execute_reply": "2023-01-04T15:38:23.596559Z"
    }
   },
   "outputs": [],
   "source": [
    "field.X(0.1)"
   ]
  },
  {
   "cell_type": "code",
   "execution_count": 20,
   "id": "varying-auditor",
   "metadata": {
    "execution": {
     "iopub.execute_input": "2023-01-04T15:38:23.599716Z",
     "iopub.status.busy": "2023-01-04T15:38:23.599513Z",
     "iopub.status.idle": "2023-01-04T15:38:23.603549Z",
     "shell.execute_reply": "2023-01-04T15:38:23.602958Z"
    }
   },
   "outputs": [
    {
     "data": {
      "text/plain": [
       "5.9947474002838135"
      ]
     },
     "execution_count": 20,
     "metadata": {},
     "output_type": "execute_result"
    }
   ],
   "source": [
    "field.ramp_time()"
   ]
  },
  {
   "cell_type": "code",
   "execution_count": 21,
   "id": "chubby-nickel",
   "metadata": {
    "execution": {
     "iopub.execute_input": "2023-01-04T15:38:23.606667Z",
     "iopub.status.busy": "2023-01-04T15:38:23.606453Z",
     "iopub.status.idle": "2023-01-04T15:38:24.611951Z",
     "shell.execute_reply": "2023-01-04T15:38:24.611295Z"
    }
   },
   "outputs": [
    {
     "data": {
      "text/plain": [
       "4.986477136611939"
      ]
     },
     "execution_count": 21,
     "metadata": {},
     "output_type": "execute_result"
    }
   ],
   "source": [
    "import time\n",
    "time.sleep(1.)\n",
    "field.ramp_time()"
   ]
  },
  {
   "cell_type": "code",
   "execution_count": 22,
   "id": "italian-liberty",
   "metadata": {
    "execution": {
     "iopub.execute_input": "2023-01-04T15:38:24.614784Z",
     "iopub.status.busy": "2023-01-04T15:38:24.614347Z",
     "iopub.status.idle": "2023-01-04T15:38:25.620050Z",
     "shell.execute_reply": "2023-01-04T15:38:25.619466Z"
    }
   },
   "outputs": [
    {
     "data": {
      "text/plain": [
       "3.9782779216766357"
      ]
     },
     "execution_count": 22,
     "metadata": {},
     "output_type": "execute_result"
    }
   ],
   "source": [
    "import time\n",
    "time.sleep(1.)\n",
    "field.ramp_time()"
   ]
  },
  {
   "cell_type": "markdown",
   "id": "c1145a2d",
   "metadata": {},
   "source": [
    "# Devices with channels"
   ]
  },
  {
   "cell_type": "markdown",
   "id": "182693f8",
   "metadata": {},
   "source": [
    "The YAML file below specifies the instruments with the channels/parameters we wish to group into a new instrument, here called \"device\". The first example simply adds the channel 'as is' using self.add_submodule, while the readout parameter is added as a DelegateParameter."
   ]
  },
  {
   "cell_type": "code",
   "execution_count": 23,
   "id": "a88d5103",
   "metadata": {
    "execution": {
     "iopub.execute_input": "2023-01-04T15:38:25.623022Z",
     "iopub.status.busy": "2023-01-04T15:38:25.622588Z",
     "iopub.status.idle": "2023-01-04T15:38:25.626779Z",
     "shell.execute_reply": "2023-01-04T15:38:25.626151Z"
    }
   },
   "outputs": [
    {
     "name": "stdout",
     "output_type": "stream",
     "text": [
      "Overwriting example.yaml\n"
     ]
    }
   ],
   "source": [
    "%%writefile example.yaml\n",
    "\n",
    "instruments:\n",
    "  lockin:\n",
    "    type: qcodes.tests.instrument_mocks.MockLockin\n",
    "\n",
    "  dac:\n",
    "    type: qcodes.tests.instrument_mocks.MockDAC   \n",
    "\n",
    "  device:\n",
    "    type: qcodes.instrument.delegate.DelegateInstrument\n",
    "    init:\n",
    "      parameters:\n",
    "        readout: lockin.X\n",
    "      channels:\n",
    "        gate_1: dac.ch01\n",
    "      set_initial_values_on_load: true\n",
    "      initial_values:\n",
    "        readout: 1e-5\n",
    "        gate_1.voltage.post_delay: 0.01"
   ]
  },
  {
   "cell_type": "code",
   "execution_count": 24,
   "id": "91f2a8ab",
   "metadata": {
    "execution": {
     "iopub.execute_input": "2023-01-04T15:38:25.629996Z",
     "iopub.status.busy": "2023-01-04T15:38:25.629590Z",
     "iopub.status.idle": "2023-01-04T15:38:25.642419Z",
     "shell.execute_reply": "2023-01-04T15:38:25.641826Z"
    }
   },
   "outputs": [],
   "source": [
    "station = qc.Station(config_file=\"example.yaml\")"
   ]
  },
  {
   "cell_type": "code",
   "execution_count": 25,
   "id": "45b22762",
   "metadata": {
    "execution": {
     "iopub.execute_input": "2023-01-04T15:38:25.645102Z",
     "iopub.status.busy": "2023-01-04T15:38:25.644599Z",
     "iopub.status.idle": "2023-01-04T15:38:25.681910Z",
     "shell.execute_reply": "2023-01-04T15:38:25.681359Z"
    }
   },
   "outputs": [],
   "source": [
    "lockin = station.load_lockin()\n",
    "dac = station.load_dac()\n",
    "device = station.load_device(station=station)"
   ]
  },
  {
   "cell_type": "code",
   "execution_count": 26,
   "id": "9bfa54fb",
   "metadata": {
    "execution": {
     "iopub.execute_input": "2023-01-04T15:38:25.684444Z",
     "iopub.status.busy": "2023-01-04T15:38:25.684116Z",
     "iopub.status.idle": "2023-01-04T15:38:25.687541Z",
     "shell.execute_reply": "2023-01-04T15:38:25.687045Z"
    }
   },
   "outputs": [
    {
     "name": "stdout",
     "output_type": "stream",
     "text": [
      "<MockDACChannel: dac_ch01 of MockDAC: dac>\n",
      "0.01\n"
     ]
    }
   ],
   "source": [
    "print(device.gate_1)\n",
    "print(device.gate_1.voltage.post_delay)"
   ]
  },
  {
   "cell_type": "code",
   "execution_count": 27,
   "id": "91d57fe0",
   "metadata": {
    "execution": {
     "iopub.execute_input": "2023-01-04T15:38:25.690310Z",
     "iopub.status.busy": "2023-01-04T15:38:25.689707Z",
     "iopub.status.idle": "2023-01-04T15:38:25.704660Z",
     "shell.execute_reply": "2023-01-04T15:38:25.704021Z"
    }
   },
   "outputs": [
    {
     "name": "stdout",
     "output_type": "stream",
     "text": [
      "0.0\n"
     ]
    },
    {
     "data": {
      "text/plain": [
       "-0.6"
      ]
     },
     "execution_count": 27,
     "metadata": {},
     "output_type": "execute_result"
    }
   ],
   "source": [
    "print(device.gate_1.voltage())\n",
    "device.gate_1.voltage(-0.6)\n",
    "device.gate_1.voltage()"
   ]
  },
  {
   "cell_type": "markdown",
   "id": "37e1c2c3",
   "metadata": {},
   "source": [
    "The second example adds a channel using a custom channel class, which takes the initial channel and its name as input and has a parameter current_valid_ranges."
   ]
  },
  {
   "cell_type": "code",
   "execution_count": 28,
   "id": "7e4becd1",
   "metadata": {
    "execution": {
     "iopub.execute_input": "2023-01-04T15:38:25.707703Z",
     "iopub.status.busy": "2023-01-04T15:38:25.707497Z",
     "iopub.status.idle": "2023-01-04T15:38:25.711427Z",
     "shell.execute_reply": "2023-01-04T15:38:25.710795Z"
    }
   },
   "outputs": [
    {
     "name": "stdout",
     "output_type": "stream",
     "text": [
      "Overwriting example.yaml\n"
     ]
    }
   ],
   "source": [
    "%%writefile example.yaml\n",
    "\n",
    "instruments:\n",
    "  lockin:\n",
    "    type: qcodes.tests.instrument_mocks.MockLockin\n",
    "\n",
    "  dac:\n",
    "    type: qcodes.tests.instrument_mocks.MockDAC   \n",
    "\n",
    "  device:\n",
    "    type: qcodes.instrument.delegate.DelegateInstrument\n",
    "    init:\n",
    "      parameters:\n",
    "        readout: lockin.X\n",
    "      channels:\n",
    "        type: qcodes.tests.instrument_mocks.MockCustomChannel\n",
    "        gate_1: \n",
    "          channel: dac.ch01\n",
    "          current_valid_range: [-0.5, 0]\n",
    "      set_initial_values_on_load: true\n",
    "      initial_values:\n",
    "        readout: 1e-5"
   ]
  },
  {
   "cell_type": "code",
   "execution_count": 29,
   "id": "2e3ca8d5",
   "metadata": {
    "execution": {
     "iopub.execute_input": "2023-01-04T15:38:25.714490Z",
     "iopub.status.busy": "2023-01-04T15:38:25.714285Z",
     "iopub.status.idle": "2023-01-04T15:38:25.717185Z",
     "shell.execute_reply": "2023-01-04T15:38:25.716582Z"
    }
   },
   "outputs": [],
   "source": [
    "lockin.close()\n",
    "dac.close()"
   ]
  },
  {
   "cell_type": "code",
   "execution_count": 30,
   "id": "2f2d2b2b",
   "metadata": {
    "execution": {
     "iopub.execute_input": "2023-01-04T15:38:25.719703Z",
     "iopub.status.busy": "2023-01-04T15:38:25.719492Z",
     "iopub.status.idle": "2023-01-04T15:38:25.758250Z",
     "shell.execute_reply": "2023-01-04T15:38:25.757664Z"
    }
   },
   "outputs": [],
   "source": [
    "station = qc.Station(config_file=\"example.yaml\")\n",
    "lockin = station.load_lockin()\n",
    "dac = station.load_dac()"
   ]
  },
  {
   "cell_type": "code",
   "execution_count": 31,
   "id": "9cb653b0",
   "metadata": {
    "execution": {
     "iopub.execute_input": "2023-01-04T15:38:25.760874Z",
     "iopub.status.busy": "2023-01-04T15:38:25.760661Z",
     "iopub.status.idle": "2023-01-04T15:38:25.774273Z",
     "shell.execute_reply": "2023-01-04T15:38:25.773719Z"
    }
   },
   "outputs": [],
   "source": [
    "device = station.load_device(station=station)"
   ]
  },
  {
   "cell_type": "code",
   "execution_count": 32,
   "id": "433d9646",
   "metadata": {
    "execution": {
     "iopub.execute_input": "2023-01-04T15:38:25.776790Z",
     "iopub.status.busy": "2023-01-04T15:38:25.776567Z",
     "iopub.status.idle": "2023-01-04T15:38:25.780635Z",
     "shell.execute_reply": "2023-01-04T15:38:25.780026Z"
    }
   },
   "outputs": [
    {
     "data": {
      "text/plain": [
       "<MockCustomChannel: dac_gate_1 of MockDAC: dac>"
      ]
     },
     "execution_count": 32,
     "metadata": {},
     "output_type": "execute_result"
    }
   ],
   "source": [
    "device.gate_1"
   ]
  },
  {
   "cell_type": "code",
   "execution_count": 33,
   "id": "3d2b8faa",
   "metadata": {
    "execution": {
     "iopub.execute_input": "2023-01-04T15:38:25.783104Z",
     "iopub.status.busy": "2023-01-04T15:38:25.782902Z",
     "iopub.status.idle": "2023-01-04T15:38:25.786075Z",
     "shell.execute_reply": "2023-01-04T15:38:25.785433Z"
    }
   },
   "outputs": [],
   "source": [
    "device.gate_1.voltage(-0.3)"
   ]
  },
  {
   "cell_type": "code",
   "execution_count": 34,
   "id": "49def342",
   "metadata": {
    "execution": {
     "iopub.execute_input": "2023-01-04T15:38:25.788521Z",
     "iopub.status.busy": "2023-01-04T15:38:25.788292Z",
     "iopub.status.idle": "2023-01-04T15:38:25.792291Z",
     "shell.execute_reply": "2023-01-04T15:38:25.791695Z"
    }
   },
   "outputs": [
    {
     "data": {
      "text/plain": [
       "-0.3"
      ]
     },
     "execution_count": 34,
     "metadata": {},
     "output_type": "execute_result"
    }
   ],
   "source": [
    "device.gate_1.voltage()"
   ]
  },
  {
   "cell_type": "markdown",
   "id": "7b122128",
   "metadata": {},
   "source": [
    "The MockCustomChannel has a parameter `current_valid_range`."
   ]
  },
  {
   "cell_type": "code",
   "execution_count": 35,
   "id": "d32a06fd",
   "metadata": {
    "execution": {
     "iopub.execute_input": "2023-01-04T15:38:25.795368Z",
     "iopub.status.busy": "2023-01-04T15:38:25.795167Z",
     "iopub.status.idle": "2023-01-04T15:38:25.799269Z",
     "shell.execute_reply": "2023-01-04T15:38:25.798657Z"
    }
   },
   "outputs": [
    {
     "data": {
      "text/plain": [
       "[-0.5, 0]"
      ]
     },
     "execution_count": 35,
     "metadata": {},
     "output_type": "execute_result"
    }
   ],
   "source": [
    "device.gate_1.current_valid_range()"
   ]
  }
 ],
 "metadata": {
  "kernelspec": {
   "display_name": "Python 3 (ipykernel)",
   "language": "python",
   "name": "python3"
  },
  "language_info": {
   "codemirror_mode": {
    "name": "ipython",
    "version": 3
   },
   "file_extension": ".py",
   "mimetype": "text/x-python",
   "name": "python",
   "nbconvert_exporter": "python",
   "pygments_lexer": "ipython3",
   "version": "3.10.9"
  }
 },
 "nbformat": 4,
 "nbformat_minor": 5
}
