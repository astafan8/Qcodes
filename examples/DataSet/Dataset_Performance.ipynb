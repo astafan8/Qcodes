{
 "cells": [
  {
   "cell_type": "markdown",
   "metadata": {},
   "source": [
    "# DataSet Performance\n",
    "\n",
    "This notebook shows the trade-off between inserting data into a database row-by-row and as binary blobs. Inserting the data row-by-row means that we have direct access to all the data and may perform queries directly on the values of the data. On the other hand, as we shall see, this is much slower than inserting the data directly as binary blobs."
   ]
  },
  {
   "cell_type": "markdown",
   "metadata": {},
   "source": [
    "First, we choose a new location for the database to ensure that we don't add a bunch of benchmarking data to the default one."
   ]
  },
  {
   "cell_type": "code",
   "execution_count": 1,
   "metadata": {
    "execution": {
     "iopub.execute_input": "2023-01-04T15:32:53.728054Z",
     "iopub.status.busy": "2023-01-04T15:32:53.727647Z",
     "iopub.status.idle": "2023-01-04T15:32:54.005386Z",
     "shell.execute_reply": "2023-01-04T15:32:54.004759Z"
    }
   },
   "outputs": [],
   "source": [
    "import os\n",
    "cwd = os.getcwd()\n",
    "import qcodes as qc\n",
    "qc.config[\"core\"][\"db_location\"] = os.path.join(cwd, 'testing.db')\n"
   ]
  },
  {
   "cell_type": "code",
   "execution_count": 2,
   "metadata": {
    "execution": {
     "iopub.execute_input": "2023-01-04T15:32:54.010051Z",
     "iopub.status.busy": "2023-01-04T15:32:54.008754Z",
     "iopub.status.idle": "2023-01-04T15:32:54.362618Z",
     "shell.execute_reply": "2023-01-04T15:32:54.361970Z"
    }
   },
   "outputs": [],
   "source": [
    "%matplotlib inline\n",
    "import time\n",
    "import matplotlib.pyplot as plt\n",
    "import numpy as np\n",
    "\n",
    "import qcodes as qc\n",
    "from qcodes.instrument.parameter import ManualParameter\n",
    "from qcodes.dataset.experiment_container import (Experiment,\n",
    "                                                 load_last_experiment,\n",
    "                                                 new_experiment)\n",
    "from qcodes.dataset.sqlite.database import initialise_database\n",
    "from qcodes import load_or_create_experiment\n",
    "from qcodes.dataset.measurements import Measurement"
   ]
  },
  {
   "cell_type": "code",
   "execution_count": 3,
   "metadata": {
    "execution": {
     "iopub.execute_input": "2023-01-04T15:32:54.366704Z",
     "iopub.status.busy": "2023-01-04T15:32:54.366084Z",
     "iopub.status.idle": "2023-01-04T15:32:54.396158Z",
     "shell.execute_reply": "2023-01-04T15:32:54.395576Z"
    }
   },
   "outputs": [],
   "source": [
    "initialise_database()\n",
    "exp = load_or_create_experiment(experiment_name='tutorial_exp', sample_name=\"no sample\")"
   ]
  },
  {
   "cell_type": "markdown",
   "metadata": {},
   "source": [
    "Here, we define a simple function to benchmark the time it takes to insert n points with either numeric or array data type.\n",
    "We will compare both the time used to call ``add_result`` and the time used for the full measurement."
   ]
  },
  {
   "cell_type": "code",
   "execution_count": 4,
   "metadata": {
    "execution": {
     "iopub.execute_input": "2023-01-04T15:32:54.399665Z",
     "iopub.status.busy": "2023-01-04T15:32:54.399095Z",
     "iopub.status.idle": "2023-01-04T15:32:54.406578Z",
     "shell.execute_reply": "2023-01-04T15:32:54.406025Z"
    }
   },
   "outputs": [],
   "source": [
    "def insert_data(paramtype, npoints, nreps=1):\n",
    "\n",
    "    meas = Measurement(exp=exp)\n",
    "\n",
    "    x1 = ManualParameter('x1')\n",
    "    x2 = ManualParameter('x2')\n",
    "    x3 = ManualParameter('x3')\n",
    "    y1 = ManualParameter('y1')\n",
    "    y2 = ManualParameter('y2')\n",
    "\n",
    "    meas.register_parameter(x1, paramtype=paramtype)\n",
    "    meas.register_parameter(x2, paramtype=paramtype)\n",
    "    meas.register_parameter(x3, paramtype=paramtype)\n",
    "    meas.register_parameter(y1, setpoints=[x1, x2, x3],\n",
    "                            paramtype=paramtype)\n",
    "    meas.register_parameter(y2, setpoints=[x1, x2, x3],\n",
    "                            paramtype=paramtype)\n",
    "    start = time.perf_counter()\n",
    "    with meas.run() as datasaver:\n",
    "        start_adding = time.perf_counter()\n",
    "        for i in range(nreps):\n",
    "            datasaver.add_result((x1, np.random.rand(npoints)),\n",
    "                                 (x2, np.random.rand(npoints)),\n",
    "                                 (x3, np.random.rand(npoints)),\n",
    "                                 (y1, np.random.rand(npoints)),\n",
    "                                 (y2, np.random.rand(npoints)))\n",
    "        stop_adding = time.perf_counter()\n",
    "        run_id = datasaver.run_id\n",
    "    stop = time.perf_counter()\n",
    "    tot_time = stop - start\n",
    "    add_time = stop_adding - start_adding\n",
    "    return tot_time, add_time, run_id"
   ]
  },
  {
   "cell_type": "markdown",
   "metadata": {},
   "source": [
    "## Comparison between numeric/array data and binary blob"
   ]
  },
  {
   "cell_type": "markdown",
   "metadata": {},
   "source": [
    "### Case1: Short experiment time"
   ]
  },
  {
   "cell_type": "code",
   "execution_count": 5,
   "metadata": {
    "execution": {
     "iopub.execute_input": "2023-01-04T15:32:54.409826Z",
     "iopub.status.busy": "2023-01-04T15:32:54.409501Z",
     "iopub.status.idle": "2023-01-04T15:32:54.796278Z",
     "shell.execute_reply": "2023-01-04T15:32:54.795639Z"
    }
   },
   "outputs": [
    {
     "name": "stdout",
     "output_type": "stream",
     "text": [
      "Starting experimental run with id: 1. \n",
      "Starting experimental run with id: 2. \n",
      "Starting experimental run with id: 3. \n",
      "Starting experimental run with id: 4. \n",
      "Starting experimental run with id: 5. \n",
      "Starting experimental run with id: 6. \n",
      "Starting experimental run with id: 7. \n",
      "Starting experimental run with id: 8. \n",
      "Starting experimental run with id: 9. \n",
      "Starting experimental run with id: 10. \n",
      "Starting experimental run with id: 11. \n"
     ]
    },
    {
     "name": "stdout",
     "output_type": "stream",
     "text": [
      "Starting experimental run with id: 12. \n",
      "Starting experimental run with id: 13. \n",
      "Starting experimental run with id: 14. \n"
     ]
    }
   ],
   "source": [
    "sizes = [1,500,1000,2000,3000,4000,5000]\n",
    "t_numeric = []\n",
    "t_numeric_add = []\n",
    "t_array = []\n",
    "t_array_add = []\n",
    "for size in sizes:\n",
    "    tn, tna, run_id_n =  insert_data('numeric', size)\n",
    "    t_numeric.append(tn)\n",
    "    t_numeric_add.append(tna)\n",
    "\n",
    "    ta, taa, run_id_a =  insert_data('array', size)\n",
    "    t_array.append(ta)\n",
    "    t_array_add.append(taa)"
   ]
  },
  {
   "cell_type": "code",
   "execution_count": 6,
   "metadata": {
    "execution": {
     "iopub.execute_input": "2023-01-04T15:32:54.799642Z",
     "iopub.status.busy": "2023-01-04T15:32:54.799149Z",
     "iopub.status.idle": "2023-01-04T15:32:55.009659Z",
     "shell.execute_reply": "2023-01-04T15:32:55.009077Z"
    }
   },
   "outputs": [
    {
     "data": {
      "image/png": "[encoded data removed]",
      "text/plain": [
       "<Figure size 640x480 with 1 Axes>"
      ]
     },
     "metadata": {},
     "output_type": "display_data"
    }
   ],
   "source": [
    "fig, ax = plt.subplots(1,1)\n",
    "ax.plot(sizes, t_numeric, 'o-', label='Inserting row-by-row')\n",
    "ax.plot(sizes, t_numeric_add, 'o-', label='Inserting row-by-row: add_result only')\n",
    "ax.plot(sizes, t_array, 'd-', label='Inserting as binary blob')\n",
    "ax.plot(sizes, t_array_add, 'd-', label='Inserting as binary blob: add_result only')\n",
    "ax.legend()\n",
    "ax.set_xlabel('Array length')\n",
    "ax.set_ylabel('Time (s)')\n",
    "fig.tight_layout()"
   ]
  },
  {
   "cell_type": "markdown",
   "metadata": {},
   "source": [
    "As shown in the latter figure, the time to setup and and close the experiment is approximately 0.4 sec. In case of small array sizes, the difference between inserting values of data as arrays and inserting them row-by-row is relatively unimportant. At larger array sizes, i.e. above 10000 points, the cost of writing data as individual datapoints starts to become important.\n"
   ]
  },
  {
   "cell_type": "markdown",
   "metadata": {},
   "source": [
    "### Case2: Long experiment time "
   ]
  },
  {
   "cell_type": "code",
   "execution_count": 7,
   "metadata": {
    "execution": {
     "iopub.execute_input": "2023-01-04T15:32:55.012607Z",
     "iopub.status.busy": "2023-01-04T15:32:55.012189Z",
     "iopub.status.idle": "2023-01-04T15:33:20.657828Z",
     "shell.execute_reply": "2023-01-04T15:33:20.657201Z"
    }
   },
   "outputs": [
    {
     "name": "stdout",
     "output_type": "stream",
     "text": [
      "Starting experimental run with id: 15. \n",
      "Starting experimental run with id: 16. \n",
      "Starting experimental run with id: 17. \n"
     ]
    },
    {
     "name": "stdout",
     "output_type": "stream",
     "text": [
      "Starting experimental run with id: 18. \n",
      "Starting experimental run with id: 19. \n"
     ]
    },
    {
     "name": "stdout",
     "output_type": "stream",
     "text": [
      "Starting experimental run with id: 20. \n",
      "Starting experimental run with id: 21. \n"
     ]
    },
    {
     "name": "stdout",
     "output_type": "stream",
     "text": [
      "Starting experimental run with id: 22. \n",
      "Starting experimental run with id: 23. \n"
     ]
    },
    {
     "name": "stdout",
     "output_type": "stream",
     "text": [
      "Starting experimental run with id: 24. \n"
     ]
    },
    {
     "name": "stdout",
     "output_type": "stream",
     "text": [
      "Starting experimental run with id: 25. \n"
     ]
    },
    {
     "name": "stdout",
     "output_type": "stream",
     "text": [
      "Starting experimental run with id: 26. \n"
     ]
    },
    {
     "name": "stdout",
     "output_type": "stream",
     "text": [
      "Starting experimental run with id: 27. \n"
     ]
    },
    {
     "name": "stdout",
     "output_type": "stream",
     "text": [
      "Starting experimental run with id: 28. \n"
     ]
    }
   ],
   "source": [
    "sizes = [1,500,1000,2000,3000,4000,5000]\n",
    "nreps = 100\n",
    "t_numeric = []\n",
    "t_numeric_add = []\n",
    "t_numeric_run_ids = []\n",
    "t_array = []\n",
    "t_array_add = []\n",
    "t_array_run_ids = []\n",
    "for size in sizes:\n",
    "    tn, tna, run_id_n =  insert_data('numeric', size, nreps=nreps)\n",
    "    t_numeric.append(tn)\n",
    "    t_numeric_add.append(tna)\n",
    "    t_numeric_run_ids.append(run_id_n)\n",
    "\n",
    "    ta, taa, run_id_a =  insert_data('array', size, nreps=nreps)\n",
    "    t_array.append(ta)\n",
    "    t_array_add.append(taa)\n",
    "    t_array_run_ids.append(run_id_a)"
   ]
  },
  {
   "cell_type": "code",
   "execution_count": 8,
   "metadata": {
    "execution": {
     "iopub.execute_input": "2023-01-04T15:33:20.660922Z",
     "iopub.status.busy": "2023-01-04T15:33:20.660680Z",
     "iopub.status.idle": "2023-01-04T15:33:20.856406Z",
     "shell.execute_reply": "2023-01-04T15:33:20.855790Z"
    },
    "scrolled": true
   },
   "outputs": [
    {
     "data": {
      "image/png": "[encoded data removed]",
      "text/plain": [
       "<Figure size 640x480 with 1 Axes>"
      ]
     },
     "metadata": {},
     "output_type": "display_data"
    }
   ],
   "source": [
    "fig, ax = plt.subplots(1,1)\n",
    "ax.plot(sizes, t_numeric, 'o-', label='Inserting row-by-row')\n",
    "ax.plot(sizes, t_numeric_add, 'o-', label='Inserting row-by-row: add_result only')\n",
    "ax.plot(sizes, t_array, 'd-', label='Inserting as binary blob')\n",
    "ax.plot(sizes, t_array_add, 'd-', label='Inserting as binary blob: add_result only')\n",
    "ax.legend()\n",
    "ax.set_xlabel('Array length')\n",
    "ax.set_ylabel('Time (s)')\n",
    "fig.tight_layout()"
   ]
  },
  {
   "cell_type": "markdown",
   "metadata": {},
   "source": [
    "However, as we increase the length of the experiment, as seen here by repeating the insertion 100 times, we see a big difference between inserting values of the data row-by-row and inserting it as a binary blob."
   ]
  },
  {
   "cell_type": "markdown",
   "metadata": {},
   "source": [
    "## Loading the data "
   ]
  },
  {
   "cell_type": "code",
   "execution_count": 9,
   "metadata": {
    "execution": {
     "iopub.execute_input": "2023-01-04T15:33:20.859279Z",
     "iopub.status.busy": "2023-01-04T15:33:20.859056Z",
     "iopub.status.idle": "2023-01-04T15:33:20.863212Z",
     "shell.execute_reply": "2023-01-04T15:33:20.862653Z"
    }
   },
   "outputs": [],
   "source": [
    "from qcodes.dataset.data_set import load_by_id"
   ]
  },
  {
   "cell_type": "markdown",
   "metadata": {},
   "source": [
    "As usual you can load the data by using the ``load_by_id`` function but you will notice that the different storage methods\n",
    "are reflected in shape of the data as it is retrieved. "
   ]
  },
  {
   "cell_type": "code",
   "execution_count": 10,
   "metadata": {
    "execution": {
     "iopub.execute_input": "2023-01-04T15:33:20.865786Z",
     "iopub.status.busy": "2023-01-04T15:33:20.865571Z",
     "iopub.status.idle": "2023-01-04T15:33:20.868497Z",
     "shell.execute_reply": "2023-01-04T15:33:20.867892Z"
    }
   },
   "outputs": [],
   "source": [
    "run_id_n = t_numeric_run_ids[0]\n",
    "run_id_a = t_array_run_ids[0]"
   ]
  },
  {
   "cell_type": "code",
   "execution_count": 11,
   "metadata": {
    "execution": {
     "iopub.execute_input": "2023-01-04T15:33:20.871173Z",
     "iopub.status.busy": "2023-01-04T15:33:20.870962Z",
     "iopub.status.idle": "2023-01-04T15:33:20.879201Z",
     "shell.execute_reply": "2023-01-04T15:33:20.878574Z"
    },
    "scrolled": true
   },
   "outputs": [
    {
     "data": {
      "text/plain": [
       "{'x1': {'x1': array([8.61829521e-01, 8.61829521e-01, 5.49275045e-01, 5.49275045e-01,\n",
       "         1.47333856e-01, 1.47333856e-01, 9.61482918e-01, 9.61482918e-01,\n",
       "         7.83813463e-01, 7.83813463e-01, 6.12059172e-01, 6.12059172e-01,\n",
       "         4.52011737e-01, 4.52011737e-01, 8.00143038e-01, 8.00143038e-01,\n",
       "         7.53227772e-01, 7.53227772e-01, 6.64369086e-01, 6.64369086e-01,\n",
       "         2.65214841e-01, 2.65214841e-01, 9.20263152e-01, 9.20263152e-01,\n",
       "         1.02452448e-01, 1.02452448e-01, 2.84092073e-01, 2.84092073e-01,\n",
       "         7.91068915e-01, 7.91068915e-01, 1.38193441e-01, 1.38193441e-01,\n",
       "         8.55464805e-01, 8.55464805e-01, 1.28176450e-01, 1.28176450e-01,\n",
       "         2.98651165e-02, 2.98651165e-02, 2.00792290e-04, 2.00792290e-04,\n",
       "         3.67960889e-01, 3.67960889e-01, 5.27441857e-01, 5.27441857e-01,\n",
       "         6.26173475e-01, 6.26173475e-01, 9.41942419e-01, 9.41942419e-01,\n",
       "         6.74412424e-01, 6.74412424e-01, 5.42804760e-01, 5.42804760e-01,\n",
       "         5.38659642e-01, 5.38659642e-01, 2.41836352e-01, 2.41836352e-01,\n",
       "         8.05052488e-02, 8.05052488e-02, 3.88095684e-02, 3.88095684e-02,\n",
       "         9.17327379e-01, 9.17327379e-01, 2.46140366e-01, 2.46140366e-01,\n",
       "         3.25542445e-01, 3.25542445e-01, 9.48976382e-01, 9.48976382e-01,\n",
       "         4.88259783e-01, 4.88259783e-01, 1.09960624e-01, 1.09960624e-01,\n",
       "         9.63126799e-01, 9.63126799e-01, 6.26539807e-01, 6.26539807e-01,\n",
       "         9.71463690e-01, 9.71463690e-01, 7.73633554e-01, 7.73633554e-01,\n",
       "         7.80057166e-01, 7.80057166e-01, 1.95927541e-01, 1.95927541e-01,\n",
       "         8.94368198e-01, 8.94368198e-01, 4.66337109e-01, 4.66337109e-01,\n",
       "         6.08660539e-01, 6.08660539e-01, 6.34735452e-01, 6.34735452e-01,\n",
       "         9.66434365e-01, 9.66434365e-01, 6.76235033e-01, 6.76235033e-01,\n",
       "         2.43097182e-01, 2.43097182e-01, 9.29043453e-01, 9.29043453e-01,\n",
       "         9.21711759e-02, 9.21711759e-02, 1.29831069e-01, 1.29831069e-01,\n",
       "         5.82850838e-01, 5.82850838e-01, 3.48306073e-01, 3.48306073e-01,\n",
       "         3.53251893e-02, 3.53251893e-02, 9.85525314e-01, 9.85525314e-01,\n",
       "         1.24687780e-01, 1.24687780e-01, 6.16491023e-01, 6.16491023e-01,\n",
       "         5.44245162e-01, 5.44245162e-01, 8.92548869e-01, 8.92548869e-01,\n",
       "         2.06456108e-01, 2.06456108e-01, 4.92731293e-01, 4.92731293e-01,\n",
       "         5.81376501e-01, 5.81376501e-01, 3.94137921e-01, 3.94137921e-01,\n",
       "         2.43968924e-01, 2.43968924e-01, 2.04413296e-02, 2.04413296e-02,\n",
       "         6.08198855e-01, 6.08198855e-01, 2.67727876e-01, 2.67727876e-01,\n",
       "         1.45476627e-01, 1.45476627e-01, 7.26761455e-01, 7.26761455e-01,\n",
       "         4.53213637e-03, 4.53213637e-03, 2.38766048e-01, 2.38766048e-01,\n",
       "         8.18337729e-01, 8.18337729e-01, 3.02176772e-01, 3.02176772e-01,\n",
       "         8.14664368e-01, 8.14664368e-01, 6.65701800e-01, 6.65701800e-01,\n",
       "         2.52478030e-01, 2.52478030e-01, 4.66252023e-02, 4.66252023e-02,\n",
       "         6.95823908e-01, 6.95823908e-01, 1.31992147e-01, 1.31992147e-01,\n",
       "         9.66423878e-01, 9.66423878e-01, 7.49590232e-01, 7.49590232e-01,\n",
       "         8.39010622e-01, 8.39010622e-01, 5.32811760e-01, 5.32811760e-01,\n",
       "         9.93929148e-01, 9.93929148e-01, 9.23114249e-01, 9.23114249e-01,\n",
       "         5.58743151e-01, 5.58743151e-01, 5.94766685e-01, 5.94766685e-01,\n",
       "         9.03020494e-01, 9.03020494e-01, 8.56463486e-01, 8.56463486e-01,\n",
       "         7.69136901e-01, 7.69136901e-01, 1.72835868e-01, 1.72835868e-01,\n",
       "         6.37041120e-01, 6.37041120e-01, 2.45112964e-01, 2.45112964e-01,\n",
       "         8.24073869e-01, 8.24073869e-01, 2.20532527e-01, 2.20532527e-01,\n",
       "         2.24401288e-02, 2.24401288e-02, 1.07708273e-01, 1.07708273e-01,\n",
       "         6.40455845e-01, 6.40455845e-01, 6.10113510e-01, 6.10113510e-01])}}"
      ]
     },
     "execution_count": 11,
     "metadata": {},
     "output_type": "execute_result"
    }
   ],
   "source": [
    "ds = load_by_id(run_id_n)\n",
    "ds.get_parameter_data('x1')"
   ]
  },
  {
   "cell_type": "markdown",
   "metadata": {},
   "source": [
    "And a dataset stored as binary arrays"
   ]
  },
  {
   "cell_type": "code",
   "execution_count": 12,
   "metadata": {
    "execution": {
     "iopub.execute_input": "2023-01-04T15:33:20.881794Z",
     "iopub.status.busy": "2023-01-04T15:33:20.881580Z",
     "iopub.status.idle": "2023-01-04T15:33:20.900507Z",
     "shell.execute_reply": "2023-01-04T15:33:20.899888Z"
    },
    "scrolled": true
   },
   "outputs": [
    {
     "data": {
      "text/plain": [
       "{'x1': {'x1': array([[0.80078819],\n",
       "         [0.80078819],\n",
       "         [0.00835859],\n",
       "         [0.00835859],\n",
       "         [0.18228975],\n",
       "         [0.18228975],\n",
       "         [0.37749815],\n",
       "         [0.37749815],\n",
       "         [0.61359424],\n",
       "         [0.61359424],\n",
       "         [0.41715943],\n",
       "         [0.41715943],\n",
       "         [0.52441263],\n",
       "         [0.52441263],\n",
       "         [0.27723455],\n",
       "         [0.27723455],\n",
       "         [0.42390998],\n",
       "         [0.42390998],\n",
       "         [0.61315378],\n",
       "         [0.61315378],\n",
       "         [0.91069806],\n",
       "         [0.91069806],\n",
       "         [0.04538288],\n",
       "         [0.04538288],\n",
       "         [0.48361689],\n",
       "         [0.48361689],\n",
       "         [0.76263493],\n",
       "         [0.76263493],\n",
       "         [0.86634193],\n",
       "         [0.86634193],\n",
       "         [0.49510028],\n",
       "         [0.49510028],\n",
       "         [0.61632691],\n",
       "         [0.61632691],\n",
       "         [0.22786486],\n",
       "         [0.22786486],\n",
       "         [0.77780679],\n",
       "         [0.77780679],\n",
       "         [0.41028344],\n",
       "         [0.41028344],\n",
       "         [0.04274159],\n",
       "         [0.04274159],\n",
       "         [0.04994107],\n",
       "         [0.04994107],\n",
       "         [0.779165  ],\n",
       "         [0.779165  ],\n",
       "         [0.46172557],\n",
       "         [0.46172557],\n",
       "         [0.60025345],\n",
       "         [0.60025345],\n",
       "         [0.1294951 ],\n",
       "         [0.1294951 ],\n",
       "         [0.47793064],\n",
       "         [0.47793064],\n",
       "         [0.17455147],\n",
       "         [0.17455147],\n",
       "         [0.83793884],\n",
       "         [0.83793884],\n",
       "         [0.2106008 ],\n",
       "         [0.2106008 ],\n",
       "         [0.82179358],\n",
       "         [0.82179358],\n",
       "         [0.91333162],\n",
       "         [0.91333162],\n",
       "         [0.32037481],\n",
       "         [0.32037481],\n",
       "         [0.04358883],\n",
       "         [0.04358883],\n",
       "         [0.56039339],\n",
       "         [0.56039339],\n",
       "         [0.91463711],\n",
       "         [0.91463711],\n",
       "         [0.63844645],\n",
       "         [0.63844645],\n",
       "         [0.40668232],\n",
       "         [0.40668232],\n",
       "         [0.88350277],\n",
       "         [0.88350277],\n",
       "         [0.26951536],\n",
       "         [0.26951536],\n",
       "         [0.84643128],\n",
       "         [0.84643128],\n",
       "         [0.56449206],\n",
       "         [0.56449206],\n",
       "         [0.33430667],\n",
       "         [0.33430667],\n",
       "         [0.79486322],\n",
       "         [0.79486322],\n",
       "         [0.83243094],\n",
       "         [0.83243094],\n",
       "         [0.49654678],\n",
       "         [0.49654678],\n",
       "         [0.47095491],\n",
       "         [0.47095491],\n",
       "         [0.47406817],\n",
       "         [0.47406817],\n",
       "         [0.5981751 ],\n",
       "         [0.5981751 ],\n",
       "         [0.14177731],\n",
       "         [0.14177731],\n",
       "         [0.8049701 ],\n",
       "         [0.8049701 ],\n",
       "         [0.67777118],\n",
       "         [0.67777118],\n",
       "         [0.99917506],\n",
       "         [0.99917506],\n",
       "         [0.73854421],\n",
       "         [0.73854421],\n",
       "         [0.9650762 ],\n",
       "         [0.9650762 ],\n",
       "         [0.43154828],\n",
       "         [0.43154828],\n",
       "         [0.54799139],\n",
       "         [0.54799139],\n",
       "         [0.91560689],\n",
       "         [0.91560689],\n",
       "         [0.56730953],\n",
       "         [0.56730953],\n",
       "         [0.78872398],\n",
       "         [0.78872398],\n",
       "         [0.14027888],\n",
       "         [0.14027888],\n",
       "         [0.39953414],\n",
       "         [0.39953414],\n",
       "         [0.69941767],\n",
       "         [0.69941767],\n",
       "         [0.57309257],\n",
       "         [0.57309257],\n",
       "         [0.14201298],\n",
       "         [0.14201298],\n",
       "         [0.05480553],\n",
       "         [0.05480553],\n",
       "         [0.39481773],\n",
       "         [0.39481773],\n",
       "         [0.5512442 ],\n",
       "         [0.5512442 ],\n",
       "         [0.22685907],\n",
       "         [0.22685907],\n",
       "         [0.28556339],\n",
       "         [0.28556339],\n",
       "         [0.34090958],\n",
       "         [0.34090958],\n",
       "         [0.17352493],\n",
       "         [0.17352493],\n",
       "         [0.99681176],\n",
       "         [0.99681176],\n",
       "         [0.14116939],\n",
       "         [0.14116939],\n",
       "         [0.20611832],\n",
       "         [0.20611832],\n",
       "         [0.55389322],\n",
       "         [0.55389322],\n",
       "         [0.31151128],\n",
       "         [0.31151128],\n",
       "         [0.83988555],\n",
       "         [0.83988555],\n",
       "         [0.15929552],\n",
       "         [0.15929552],\n",
       "         [0.30105746],\n",
       "         [0.30105746],\n",
       "         [0.93228841],\n",
       "         [0.93228841],\n",
       "         [0.04472748],\n",
       "         [0.04472748],\n",
       "         [0.68318138],\n",
       "         [0.68318138],\n",
       "         [0.47453487],\n",
       "         [0.47453487],\n",
       "         [0.55404372],\n",
       "         [0.55404372],\n",
       "         [0.24709355],\n",
       "         [0.24709355],\n",
       "         [0.34829818],\n",
       "         [0.34829818],\n",
       "         [0.93605812],\n",
       "         [0.93605812],\n",
       "         [0.53050448],\n",
       "         [0.53050448],\n",
       "         [0.78934914],\n",
       "         [0.78934914],\n",
       "         [0.54396627],\n",
       "         [0.54396627],\n",
       "         [0.85185479],\n",
       "         [0.85185479],\n",
       "         [0.51768591],\n",
       "         [0.51768591],\n",
       "         [0.92741651],\n",
       "         [0.92741651],\n",
       "         [0.25976568],\n",
       "         [0.25976568],\n",
       "         [0.57954121],\n",
       "         [0.57954121],\n",
       "         [0.31467435],\n",
       "         [0.31467435],\n",
       "         [0.95836467],\n",
       "         [0.95836467],\n",
       "         [0.56035376],\n",
       "         [0.56035376],\n",
       "         [0.92913035],\n",
       "         [0.92913035]])}}"
      ]
     },
     "execution_count": 12,
     "metadata": {},
     "output_type": "execute_result"
    }
   ],
   "source": [
    "ds = load_by_id(run_id_a)\n",
    "ds.get_parameter_data('x1')"
   ]
  },
  {
   "cell_type": "code",
   "execution_count": null,
   "metadata": {},
   "outputs": [],
   "source": []
  }
 ],
 "metadata": {
  "kernelspec": {
   "display_name": "Python 3",
   "language": "python",
   "name": "python3"
  },
  "language_info": {
   "codemirror_mode": {
    "name": "ipython",
    "version": 3
   },
   "file_extension": ".py",
   "mimetype": "text/x-python",
   "name": "python",
   "nbconvert_exporter": "python",
   "pygments_lexer": "ipython3",
   "version": "3.10.9"
  },
  "nbsphinx": {
   "timeout": 600
  },
  "toc": {
   "base_numbering": 1,
   "nav_menu": {},
   "number_sections": true,
   "sideBar": true,
   "skip_h1_title": false,
   "title_cell": "Table of Contents",
   "title_sidebar": "Contents",
   "toc_cell": false,
   "toc_position": {},
   "toc_section_display": true,
   "toc_window_display": false
  },
  "varInspector": {
   "cols": {
    "lenName": 16,
    "lenType": 16,
    "lenVar": 40
   },
   "kernels_config": {
    "python": {
     "delete_cmd_postfix": "",
     "delete_cmd_prefix": "del ",
     "library": "var_list.py",
     "varRefreshCmd": "print(var_dic_list())"
    },
    "r": {
     "delete_cmd_postfix": ") ",
     "delete_cmd_prefix": "rm(",
     "library": "var_list.r",
     "varRefreshCmd": "cat(var_dic_list()) "
    }
   },
   "types_to_exclude": [
    "module",
    "function",
    "builtin_function_or_method",
    "instance",
    "_Feature"
   ],
   "window_display": false
  }
 },
 "nbformat": 4,
 "nbformat_minor": 4
}
